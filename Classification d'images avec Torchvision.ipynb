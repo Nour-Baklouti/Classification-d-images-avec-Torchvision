{
 "cells": [
  {
   "cell_type": "code",
   "execution_count": 1,
   "id": "b7c4ebef-cef0-47d6-b57c-f1a783f5bdb7",
   "metadata": {},
   "outputs": [],
   "source": [
    "import torch\n",
    "import torch.nn as nn\n",
    "from torch.utils.data import Dataset, DataLoader\n",
    "from torch.optim import Adam\n",
    "\n",
    "# Visualization tools\n",
    "import torchvision\n",
    "import torchvision.transforms.v2 as transforms\n",
    "import torchvision.transforms.functional as F\n",
    "import matplotlib.pyplot as plt"
   ]
  },
  {
   "cell_type": "code",
   "execution_count": 2,
   "id": "75a77f93-9fb7-4865-ab9d-77d3c4d38400",
   "metadata": {},
   "outputs": [],
   "source": [
    "train_set = torchvision.datasets.MNIST(\"./data/\", train=True, download=True)\n",
    "valid_set = torchvision.datasets.MNIST(\"./data/\", train=False, download=True)"
   ]
  },
  {
   "cell_type": "code",
   "execution_count": 3,
   "id": "d59b20ee-4c07-4584-983e-cab7e8cf5121",
   "metadata": {},
   "outputs": [
    {
     "data": {
      "text/plain": [
       "Dataset MNIST\n",
       "    Number of datapoints: 60000\n",
       "    Root location: ./data/\n",
       "    Split: Train"
      ]
     },
     "execution_count": 3,
     "metadata": {},
     "output_type": "execute_result"
    }
   ],
   "source": [
    "train_set"
   ]
  },
  {
   "cell_type": "code",
   "execution_count": 4,
   "id": "c837ae5f-791b-42db-a700-f8cef1ce80cc",
   "metadata": {},
   "outputs": [
    {
     "data": {
      "text/plain": [
       "Dataset MNIST\n",
       "    Number of datapoints: 10000\n",
       "    Root location: ./data/\n",
       "    Split: Test"
      ]
     },
     "execution_count": 4,
     "metadata": {},
     "output_type": "execute_result"
    }
   ],
   "source": [
    "valid_set"
   ]
  },
  {
   "cell_type": "code",
   "execution_count": 5,
   "id": "0738d988-27ca-4eb0-b391-f5ba092fe4f5",
   "metadata": {},
   "outputs": [
    {
     "name": "stderr",
     "output_type": "stream",
     "text": [
      "C:\\Users\\nourb\\anaconda3\\envs\\nour_env\\Lib\\site-packages\\torchvision\\transforms\\v2\\_deprecated.py:42: UserWarning: The transform `ToTensor()` is deprecated and will be removed in a future release. Instead, please use `v2.Compose([v2.ToImage(), v2.ToDtype(torch.float32, scale=True)])`.Output is equivalent up to float precision.\n",
      "  warnings.warn(\n"
     ]
    }
   ],
   "source": [
    "trans = transforms.Compose([transforms.ToTensor()])"
   ]
  },
  {
   "cell_type": "code",
   "execution_count": 6,
   "id": "6113c75c-38cc-455e-a3d8-f976c118b245",
   "metadata": {},
   "outputs": [],
   "source": [
    "train_set.transform = trans\n",
    "valid_set.transform = trans"
   ]
  },
  {
   "cell_type": "code",
   "execution_count": 7,
   "id": "466414d7-7897-46f4-82d0-e3886fb6edbc",
   "metadata": {},
   "outputs": [],
   "source": [
    "batch_size = 32\n",
    "\n",
    "train_loader = DataLoader(train_set, batch_size=batch_size, shuffle=True)\n",
    "valid_loader = DataLoader(valid_set, batch_size=batch_size)"
   ]
  },
  {
   "cell_type": "code",
   "execution_count": 8,
   "id": "6d9cd8a0-071e-489e-9faf-310ff07f1886",
   "metadata": {},
   "outputs": [
    {
     "data": {
      "text/plain": [
       "[Flatten(start_dim=1, end_dim=-1),\n",
       " Linear(in_features=784, out_features=512, bias=True),\n",
       " ReLU(),\n",
       " Linear(in_features=512, out_features=512, bias=True),\n",
       " ReLU(),\n",
       " Linear(in_features=512, out_features=10, bias=True)]"
      ]
     },
     "execution_count": 8,
     "metadata": {},
     "output_type": "execute_result"
    }
   ],
   "source": [
    "n_classes = 10\n",
    "input_size = 1 * 28 * 28 \n",
    "layers = [\n",
    "    nn.Flatten(),\n",
    "    nn.Linear(input_size, 512),  # Input 512 neurons\n",
    "    nn.ReLU(),  # Activation for input\n",
    "    nn.Linear(512, 512),  # Hidden\n",
    "    nn.ReLU(),  # Activation for hidden\n",
    "    nn.Linear(512, n_classes)  # Output\n",
    "]\n",
    "layers"
   ]
  },
  {
   "cell_type": "code",
   "execution_count": 9,
   "id": "019ca220-b07d-486d-a98f-b1c196ea9930",
   "metadata": {},
   "outputs": [
    {
     "data": {
      "text/plain": [
       "Sequential(\n",
       "  (0): Flatten(start_dim=1, end_dim=-1)\n",
       "  (1): Linear(in_features=784, out_features=512, bias=True)\n",
       "  (2): ReLU()\n",
       "  (3): Linear(in_features=512, out_features=512, bias=True)\n",
       "  (4): ReLU()\n",
       "  (5): Linear(in_features=512, out_features=10, bias=True)\n",
       ")"
      ]
     },
     "execution_count": 9,
     "metadata": {},
     "output_type": "execute_result"
    }
   ],
   "source": [
    "model = nn.Sequential(*layers)\n",
    "model"
   ]
  },
  {
   "cell_type": "code",
   "execution_count": 10,
   "id": "75546e2a-b22c-4e45-8782-6156881330c9",
   "metadata": {},
   "outputs": [],
   "source": [
    "model = torch.compile(model)"
   ]
  },
  {
   "cell_type": "code",
   "execution_count": 11,
   "id": "9c9e601d-a46d-468e-bc9a-ddb624063e01",
   "metadata": {},
   "outputs": [],
   "source": [
    "loss_function = nn.CrossEntropyLoss()"
   ]
  },
  {
   "cell_type": "code",
   "execution_count": 12,
   "id": "c119a7e2-bfc1-42d6-823d-b64719301613",
   "metadata": {},
   "outputs": [],
   "source": [
    "optimizer = Adam(model.parameters())"
   ]
  },
  {
   "cell_type": "code",
   "execution_count": 13,
   "id": "427aea54-c032-42c8-8ce9-3b876a2de901",
   "metadata": {},
   "outputs": [],
   "source": [
    "train_N = len(train_loader.dataset)\n",
    "valid_N = len(valid_loader.dataset)"
   ]
  },
  {
   "cell_type": "code",
   "execution_count": 14,
   "id": "81033d41-7c6b-4ea4-bdb0-46c7e7fec335",
   "metadata": {},
   "outputs": [],
   "source": [
    "def get_batch_accuracy(output, y, N):\n",
    "    pred = output.argmax(dim=1, keepdim=True)\n",
    "    correct = pred.eq(y.view_as(pred)).sum().item()\n",
    "    return correct / N"
   ]
  },
  {
   "cell_type": "code",
   "execution_count": 15,
   "id": "5e0a6128-41ff-4a51-a1ea-6b7e4a30a57b",
   "metadata": {},
   "outputs": [],
   "source": [
    "def train():\n",
    "    loss = 0\n",
    "    accuracy = 0\n",
    "\n",
    "    model.train()\n",
    "    for x, y in train_loader:\n",
    "        x, y = x.to(device), y.to(device)\n",
    "        output = model(x)\n",
    "        optimizer.zero_grad()\n",
    "        batch_loss = loss_function(output, y)\n",
    "        batch_loss.backward()\n",
    "        optimizer.step()\n",
    "\n",
    "        loss += batch_loss.item()\n",
    "        accuracy += get_batch_accuracy(output, y, train_N)\n",
    "    print('Train - Loss: {:.4f} Accuracy: {:.4f}'.format(loss, accuracy))"
   ]
  },
  {
   "cell_type": "code",
   "execution_count": 16,
   "id": "cd82edd7-e8b4-4df6-a515-25df7c4b1c74",
   "metadata": {},
   "outputs": [],
   "source": [
    "def validate():\n",
    "    loss = 0\n",
    "    accuracy = 0\n",
    "\n",
    "    model.eval()\n",
    "    with torch.no_grad():\n",
    "        for x, y in valid_loader:\n",
    "            x, y = x.to(device), y.to(device)\n",
    "            output = model(x)\n",
    "\n",
    "            loss += loss_function(output, y).item()\n",
    "            accuracy += get_batch_accuracy(output, y, valid_N)\n",
    "    print('Valid - Loss: {:.4f} Accuracy: {:.4f}'.format(loss, accuracy))"
   ]
  },
  {
   "cell_type": "code",
   "execution_count": 17,
   "id": "966357c1-24f2-4e95-a6a3-e42769ff1a99",
   "metadata": {},
   "outputs": [
    {
     "data": {
      "text/plain": [
       "False"
      ]
     },
     "execution_count": 17,
     "metadata": {},
     "output_type": "execute_result"
    }
   ],
   "source": [
    "device = torch.device(\"cuda\" if torch.cuda.is_available() else \"cpu\")\n",
    "torch.cuda.is_available()\n"
   ]
  },
  {
   "cell_type": "code",
   "execution_count": 18,
   "id": "4b2604f0-14df-4a97-82a3-8a200ac40551",
   "metadata": {},
   "outputs": [
    {
     "name": "stdout",
     "output_type": "stream",
     "text": [
      "Epoch: 0\n",
      "Train - Loss: 383.2889 Accuracy: 0.9363\n",
      "Valid - Loss: 40.2021 Accuracy: 0.9588\n",
      "Epoch: 1\n",
      "Train - Loss: 157.5357 Accuracy: 0.9736\n",
      "Valid - Loss: 29.0261 Accuracy: 0.9699\n",
      "Epoch: 2\n",
      "Train - Loss: 107.4230 Accuracy: 0.9824\n",
      "Valid - Loss: 36.7149 Accuracy: 0.9675\n",
      "Epoch: 3\n",
      "Train - Loss: 83.7541 Accuracy: 0.9859\n",
      "Valid - Loss: 29.9132 Accuracy: 0.9739\n",
      "Epoch: 4\n",
      "Train - Loss: 64.3917 Accuracy: 0.9888\n",
      "Valid - Loss: 25.2523 Accuracy: 0.9771\n",
      "Epoch: 5\n",
      "Train - Loss: 54.7731 Accuracy: 0.9902\n",
      "Valid - Loss: 32.9801 Accuracy: 0.9754\n",
      "Epoch: 6\n",
      "Train - Loss: 49.5868 Accuracy: 0.9915\n",
      "Valid - Loss: 30.3259 Accuracy: 0.9787\n",
      "Epoch: 7\n",
      "Train - Loss: 42.2626 Accuracy: 0.9931\n",
      "Valid - Loss: 27.5130 Accuracy: 0.9795\n",
      "Epoch: 8\n",
      "Train - Loss: 38.1425 Accuracy: 0.9938\n",
      "Valid - Loss: 33.2193 Accuracy: 0.9779\n",
      "Epoch: 9\n",
      "Train - Loss: 32.4775 Accuracy: 0.9944\n",
      "Valid - Loss: 27.0272 Accuracy: 0.9810\n",
      "Epoch: 10\n",
      "Train - Loss: 34.4415 Accuracy: 0.9947\n",
      "Valid - Loss: 30.4484 Accuracy: 0.9812\n",
      "Epoch: 11\n",
      "Train - Loss: 22.9364 Accuracy: 0.9964\n",
      "Valid - Loss: 35.7591 Accuracy: 0.9788\n",
      "Epoch: 12\n",
      "Train - Loss: 34.0271 Accuracy: 0.9950\n",
      "Valid - Loss: 30.7324 Accuracy: 0.9817\n",
      "Epoch: 13\n",
      "Train - Loss: 26.2810 Accuracy: 0.9959\n",
      "Valid - Loss: 36.2751 Accuracy: 0.9817\n",
      "Epoch: 14\n",
      "Train - Loss: 25.3392 Accuracy: 0.9961\n",
      "Valid - Loss: 30.1460 Accuracy: 0.9842\n",
      "Epoch: 15\n",
      "Train - Loss: 23.4449 Accuracy: 0.9965\n",
      "Valid - Loss: 36.2340 Accuracy: 0.9815\n",
      "Epoch: 16\n",
      "Train - Loss: 27.5120 Accuracy: 0.9962\n",
      "Valid - Loss: 40.4377 Accuracy: 0.9821\n",
      "Epoch: 17\n",
      "Train - Loss: 28.3119 Accuracy: 0.9963\n",
      "Valid - Loss: 38.3949 Accuracy: 0.9822\n",
      "Epoch: 18\n",
      "Train - Loss: 21.0607 Accuracy: 0.9971\n",
      "Valid - Loss: 43.7830 Accuracy: 0.9808\n",
      "Epoch: 19\n",
      "Train - Loss: 21.6545 Accuracy: 0.9970\n",
      "Valid - Loss: 39.4355 Accuracy: 0.9815\n"
     ]
    }
   ],
   "source": [
    "epochs = 20\n",
    "\n",
    "\n",
    "for epoch in range(epochs):\n",
    "    print('Epoch: {}'.format(epoch))\n",
    "    train()\n",
    "    validate()"
   ]
  },
  {
   "cell_type": "code",
   "execution_count": 19,
   "id": "a3951da8-d1d4-47c1-bd15-1a28f7d16ce6",
   "metadata": {},
   "outputs": [
    {
     "data": {
      "text/plain": [
       "tensor([[[0.0000, 0.0000, 0.0000, 0.0000, 0.0000, 0.0000, 0.0000, 0.0000,\n",
       "          0.0000, 0.0000, 0.0000, 0.0000, 0.0000, 0.0000, 0.0000, 0.0000,\n",
       "          0.0000, 0.0000, 0.0000, 0.0000, 0.0000, 0.0000, 0.0000, 0.0000,\n",
       "          0.0000, 0.0000, 0.0000, 0.0000],\n",
       "         [0.0000, 0.0000, 0.0000, 0.0000, 0.0000, 0.0000, 0.0000, 0.0000,\n",
       "          0.0000, 0.0000, 0.0000, 0.0000, 0.0000, 0.0000, 0.0000, 0.0000,\n",
       "          0.0000, 0.0000, 0.0000, 0.0000, 0.0000, 0.0000, 0.0000, 0.0000,\n",
       "          0.0000, 0.0000, 0.0000, 0.0000],\n",
       "         [0.0000, 0.0000, 0.0000, 0.0000, 0.0000, 0.0000, 0.0000, 0.0000,\n",
       "          0.0000, 0.0000, 0.0000, 0.0000, 0.0000, 0.0000, 0.0000, 0.0000,\n",
       "          0.0000, 0.0000, 0.0000, 0.0000, 0.0000, 0.0000, 0.0000, 0.0000,\n",
       "          0.0000, 0.0000, 0.0000, 0.0000],\n",
       "         [0.0000, 0.0000, 0.0000, 0.0000, 0.0000, 0.0000, 0.0000, 0.0000,\n",
       "          0.0000, 0.0000, 0.0000, 0.0000, 0.0000, 0.0000, 0.0000, 0.0000,\n",
       "          0.0000, 0.0000, 0.0000, 0.0000, 0.0000, 0.0000, 0.0000, 0.0000,\n",
       "          0.0000, 0.0000, 0.0000, 0.0000],\n",
       "         [0.0000, 0.0000, 0.0000, 0.0000, 0.0000, 0.0000, 0.0000, 0.0000,\n",
       "          0.0000, 0.0000, 0.0000, 0.0000, 0.0000, 0.0000, 0.0000, 0.0000,\n",
       "          0.0000, 0.0000, 0.0000, 0.0000, 0.0000, 0.0000, 0.0000, 0.0000,\n",
       "          0.0000, 0.0000, 0.0000, 0.0000],\n",
       "         [0.0000, 0.0000, 0.0000, 0.0000, 0.0000, 0.0000, 0.0000, 0.0000,\n",
       "          0.0000, 0.0000, 0.0000, 0.1490, 0.1686, 0.4118, 1.0000, 0.9922,\n",
       "          0.9922, 0.9922, 0.9922, 0.9922, 0.6824, 0.0235, 0.0000, 0.0000,\n",
       "          0.0000, 0.0000, 0.0000, 0.0000],\n",
       "         [0.0000, 0.0000, 0.0000, 0.0000, 0.0000, 0.0000, 0.0000, 0.0000,\n",
       "          0.0000, 0.1686, 0.5451, 0.8784, 0.8863, 0.9882, 0.9922, 0.9882,\n",
       "          0.9882, 0.9882, 0.9882, 0.9882, 0.9882, 0.6196, 0.0549, 0.0000,\n",
       "          0.0000, 0.0000, 0.0000, 0.0000],\n",
       "         [0.0000, 0.0000, 0.0000, 0.0000, 0.0000, 0.0000, 0.0000, 0.0000,\n",
       "          0.0000, 0.6980, 0.9882, 0.9882, 0.9882, 0.9882, 0.9922, 0.9882,\n",
       "          0.9882, 0.9882, 0.9882, 0.9882, 0.9882, 0.9882, 0.2314, 0.0000,\n",
       "          0.0000, 0.0000, 0.0000, 0.0000],\n",
       "         [0.0000, 0.0000, 0.0000, 0.0000, 0.0000, 0.0000, 0.0000, 0.0000,\n",
       "          0.0000, 0.4275, 0.9882, 0.9882, 0.9020, 0.5176, 0.5216, 0.5176,\n",
       "          0.5176, 0.7412, 0.9882, 0.9882, 0.9882, 0.9882, 0.2314, 0.0000,\n",
       "          0.0000, 0.0000, 0.0000, 0.0000],\n",
       "         [0.0000, 0.0000, 0.0000, 0.0000, 0.0000, 0.0000, 0.0000, 0.0000,\n",
       "          0.0000, 0.0157, 0.1137, 0.1137, 0.0941, 0.0000, 0.0000, 0.0000,\n",
       "          0.0000, 0.0549, 0.8863, 0.9882, 0.9882, 0.6745, 0.0275, 0.0000,\n",
       "          0.0000, 0.0000, 0.0000, 0.0000],\n",
       "         [0.0000, 0.0000, 0.0000, 0.0000, 0.0000, 0.0000, 0.0000, 0.0000,\n",
       "          0.0000, 0.0000, 0.0000, 0.0000, 0.0000, 0.0000, 0.0000, 0.0000,\n",
       "          0.0000, 0.3333, 0.9529, 0.9882, 0.9882, 0.5647, 0.0000, 0.0000,\n",
       "          0.0000, 0.0000, 0.0000, 0.0000],\n",
       "         [0.0000, 0.0000, 0.0000, 0.0000, 0.0000, 0.0000, 0.0000, 0.0000,\n",
       "          0.0000, 0.0000, 0.0000, 0.0000, 0.0000, 0.0000, 0.0000, 0.0000,\n",
       "          0.3451, 0.7412, 0.9882, 0.9882, 0.9882, 0.0549, 0.0000, 0.0000,\n",
       "          0.0000, 0.0000, 0.0000, 0.0000],\n",
       "         [0.0000, 0.0000, 0.0000, 0.0000, 0.0000, 0.0000, 0.0000, 0.0000,\n",
       "          0.0000, 0.0000, 0.0000, 0.0000, 0.0000, 0.0000, 0.3569, 0.8314,\n",
       "          0.9686, 0.9882, 0.9882, 0.9882, 0.8000, 0.0353, 0.0000, 0.0000,\n",
       "          0.0000, 0.0000, 0.0000, 0.0000],\n",
       "         [0.0000, 0.0000, 0.0000, 0.0000, 0.0000, 0.0000, 0.0000, 0.0000,\n",
       "          0.0000, 0.1255, 0.4902, 0.7569, 0.7569, 0.7569, 0.9922, 0.9882,\n",
       "          0.9882, 0.9882, 0.9333, 0.4000, 0.1098, 0.0000, 0.0000, 0.0000,\n",
       "          0.0000, 0.0000, 0.0000, 0.0000],\n",
       "         [0.0000, 0.0000, 0.0000, 0.0000, 0.0000, 0.0000, 0.0000, 0.0000,\n",
       "          0.1765, 0.8706, 0.9882, 0.9882, 0.9882, 0.9882, 0.9922, 0.9882,\n",
       "          0.9882, 0.9882, 0.6941, 0.0000, 0.0000, 0.0000, 0.0000, 0.0000,\n",
       "          0.0000, 0.0000, 0.0000, 0.0000],\n",
       "         [0.0000, 0.0000, 0.0000, 0.0000, 0.0000, 0.0000, 0.0000, 0.0000,\n",
       "          0.1765, 0.8745, 0.9922, 0.9922, 0.9922, 0.9922, 1.0000, 0.9922,\n",
       "          0.9922, 0.9922, 0.9922, 0.2902, 0.0000, 0.0000, 0.0000, 0.0000,\n",
       "          0.0000, 0.0000, 0.0000, 0.0000],\n",
       "         [0.0000, 0.0000, 0.0000, 0.0000, 0.0000, 0.0000, 0.0000, 0.0000,\n",
       "          0.0000, 0.1216, 0.4824, 0.2039, 0.1725, 0.1725, 0.1725, 0.1725,\n",
       "          0.5608, 0.9882, 0.9882, 0.2902, 0.0000, 0.0000, 0.0000, 0.0000,\n",
       "          0.0000, 0.0000, 0.0000, 0.0000],\n",
       "         [0.0000, 0.0000, 0.0000, 0.0000, 0.0000, 0.0000, 0.0000, 0.0000,\n",
       "          0.0000, 0.0000, 0.0000, 0.0000, 0.0000, 0.0000, 0.0000, 0.0000,\n",
       "          0.0588, 0.9882, 0.9882, 0.2902, 0.0000, 0.0000, 0.0000, 0.0000,\n",
       "          0.0000, 0.0000, 0.0000, 0.0000],\n",
       "         [0.0000, 0.0000, 0.0000, 0.0000, 0.0000, 0.0000, 0.0000, 0.0000,\n",
       "          0.0000, 0.0000, 0.0000, 0.0000, 0.0000, 0.0000, 0.0000, 0.0000,\n",
       "          0.3373, 0.9882, 0.9882, 0.2902, 0.0000, 0.0000, 0.0000, 0.0000,\n",
       "          0.0000, 0.0000, 0.0000, 0.0000],\n",
       "         [0.0000, 0.0000, 0.0000, 0.0000, 0.0000, 0.0000, 0.0196, 0.2941,\n",
       "          0.0353, 0.0000, 0.0000, 0.0000, 0.0000, 0.0000, 0.0000, 0.3843,\n",
       "          0.9490, 0.9882, 0.9882, 0.2902, 0.0000, 0.0000, 0.0000, 0.0000,\n",
       "          0.0000, 0.0000, 0.0000, 0.0000],\n",
       "         [0.0000, 0.0000, 0.0000, 0.0000, 0.0000, 0.2392, 0.7176, 0.9882,\n",
       "          0.1137, 0.0000, 0.0000, 0.0000, 0.0000, 0.0706, 0.3608, 0.9373,\n",
       "          0.9882, 0.9882, 0.9529, 0.2549, 0.0000, 0.0000, 0.0000, 0.0000,\n",
       "          0.0000, 0.0000, 0.0000, 0.0000],\n",
       "         [0.0000, 0.0000, 0.0000, 0.0000, 0.0000, 0.8157, 0.9882, 0.9882,\n",
       "          0.5765, 0.5255, 0.5255, 0.5255, 0.5255, 0.7961, 0.9922, 0.9882,\n",
       "          0.9882, 0.7373, 0.3255, 0.0000, 0.0000, 0.0000, 0.0000, 0.0000,\n",
       "          0.0000, 0.0000, 0.0000, 0.0000],\n",
       "         [0.0000, 0.0000, 0.0000, 0.0000, 0.0000, 0.8157, 0.9882, 0.9882,\n",
       "          0.9882, 0.9882, 0.9882, 0.9882, 0.9882, 0.9882, 0.9922, 0.9020,\n",
       "          0.6000, 0.0314, 0.0000, 0.0000, 0.0000, 0.0000, 0.0000, 0.0000,\n",
       "          0.0000, 0.0000, 0.0000, 0.0000],\n",
       "         [0.0000, 0.0000, 0.0000, 0.0000, 0.0000, 0.1922, 0.6157, 0.9882,\n",
       "          0.9882, 0.9882, 0.9882, 0.9882, 0.8510, 0.8118, 0.5725, 0.1765,\n",
       "          0.0000, 0.0000, 0.0000, 0.0000, 0.0000, 0.0000, 0.0000, 0.0000,\n",
       "          0.0000, 0.0000, 0.0000, 0.0000],\n",
       "         [0.0000, 0.0000, 0.0000, 0.0000, 0.0000, 0.0000, 0.0275, 0.4039,\n",
       "          0.9216, 0.9882, 0.6745, 0.4039, 0.0941, 0.0000, 0.0000, 0.0000,\n",
       "          0.0000, 0.0000, 0.0000, 0.0000, 0.0000, 0.0000, 0.0000, 0.0000,\n",
       "          0.0000, 0.0000, 0.0000, 0.0000],\n",
       "         [0.0000, 0.0000, 0.0000, 0.0000, 0.0000, 0.0000, 0.0000, 0.0000,\n",
       "          0.0000, 0.0000, 0.0000, 0.0000, 0.0000, 0.0000, 0.0000, 0.0000,\n",
       "          0.0000, 0.0000, 0.0000, 0.0000, 0.0000, 0.0000, 0.0000, 0.0000,\n",
       "          0.0000, 0.0000, 0.0000, 0.0000],\n",
       "         [0.0000, 0.0000, 0.0000, 0.0000, 0.0000, 0.0000, 0.0000, 0.0000,\n",
       "          0.0000, 0.0000, 0.0000, 0.0000, 0.0000, 0.0000, 0.0000, 0.0000,\n",
       "          0.0000, 0.0000, 0.0000, 0.0000, 0.0000, 0.0000, 0.0000, 0.0000,\n",
       "          0.0000, 0.0000, 0.0000, 0.0000],\n",
       "         [0.0000, 0.0000, 0.0000, 0.0000, 0.0000, 0.0000, 0.0000, 0.0000,\n",
       "          0.0000, 0.0000, 0.0000, 0.0000, 0.0000, 0.0000, 0.0000, 0.0000,\n",
       "          0.0000, 0.0000, 0.0000, 0.0000, 0.0000, 0.0000, 0.0000, 0.0000,\n",
       "          0.0000, 0.0000, 0.0000, 0.0000]]])"
      ]
     },
     "execution_count": 19,
     "metadata": {},
     "output_type": "execute_result"
    }
   ],
   "source": [
    "x0, y0 = train_set[7]\n",
    "\n",
    "y0"
   ]
  },
  {
   "cell_type": "code",
   "execution_count": 20,
   "id": "41951f1c-6932-45e1-aedd-b74131d11683",
   "metadata": {},
   "outputs": [],
   "source": [
    "\n",
    "trans = transforms.Compose([transforms.ToTensor()])\n",
    "x0tensor = trans(x0)\n"
   ]
  },
  {
   "cell_type": "code",
   "execution_count": null,
   "id": "107bb793-7f7d-4a2e-bf85-3fffa82c8472",
   "metadata": {},
   "outputs": [],
   "source": []
  },
  {
   "cell_type": "code",
   "execution_count": 21,
   "id": "edb3edac-551a-4952-9028-54550517fca5",
   "metadata": {},
   "outputs": [
    {
     "data": {
      "text/plain": [
       "tensor([[ -81.0914,  -26.9573,  -40.9045,   30.0106,  -62.0796,  -39.2270,\n",
       "         -103.4740,  -22.2291,  -36.0049,  -34.7299]],\n",
       "       grad_fn=<AddmmBackward0>)"
      ]
     },
     "execution_count": 21,
     "metadata": {},
     "output_type": "execute_result"
    }
   ],
   "source": [
    "\n",
    "prediction = model(x0tensor)\n",
    "prediction"
   ]
  },
  {
   "cell_type": "code",
   "execution_count": null,
   "id": "c9204291-3211-496b-b646-ff993c6ced63",
   "metadata": {},
   "outputs": [],
   "source": []
  },
  {
   "cell_type": "code",
   "execution_count": 22,
   "id": "1da8916f-4760-4701-bd03-41e85a246c79",
   "metadata": {},
   "outputs": [
    {
     "data": {
      "text/plain": [
       "tensor([[3]])"
      ]
     },
     "execution_count": 22,
     "metadata": {},
     "output_type": "execute_result"
    }
   ],
   "source": [
    "prediction.argmax(dim=1, keepdim=True)"
   ]
  },
  {
   "cell_type": "code",
   "execution_count": 23,
   "id": "3fca49b5-684c-42a6-a7c4-adfdf9805cf1",
   "metadata": {},
   "outputs": [
    {
     "data": {
      "text/plain": [
       "3"
      ]
     },
     "execution_count": 23,
     "metadata": {},
     "output_type": "execute_result"
    }
   ],
   "source": [
    "x0, y0 = train_set[7]\n",
    "y0"
   ]
  },
  {
   "cell_type": "code",
   "execution_count": null,
   "id": "2073ce44-a155-4ed9-b5c9-889875ced544",
   "metadata": {},
   "outputs": [],
   "source": []
  },
  {
   "cell_type": "code",
   "execution_count": null,
   "id": "454ccb98-f9c4-4dc1-825e-22f282652499",
   "metadata": {},
   "outputs": [],
   "source": []
  }
 ],
 "metadata": {
  "kernelspec": {
   "display_name": "Python 3 (ipykernel)",
   "language": "python",
   "name": "python3"
  },
  "language_info": {
   "codemirror_mode": {
    "name": "ipython",
    "version": 3
   },
   "file_extension": ".py",
   "mimetype": "text/x-python",
   "name": "python",
   "nbconvert_exporter": "python",
   "pygments_lexer": "ipython3",
   "version": "3.12.4"
  }
 },
 "nbformat": 4,
 "nbformat_minor": 5
}
